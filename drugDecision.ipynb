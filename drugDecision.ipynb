{
 "cells": [
  {
   "attachments": {},
   "cell_type": "markdown",
   "metadata": {},
   "source": [
    "### Importação das bibliotecas"
   ]
  },
  {
   "cell_type": "code",
   "execution_count": 73,
   "metadata": {},
   "outputs": [],
   "source": [
    "from sklearn import tree\n",
    "from sklearn.model_selection import train_test_split\n",
    "from sklearn.metrics import accuracy_score, classification_report\n",
    "from sklearn.preprocessing import MinMaxScaler\n",
    "import matplotlib.pyplot as plt\n",
    "from joblib import dump, load\n",
    "from graphviz import Graph, Digraph\n",
    "import numpy as np\n",
    "import pandas as pd\n",
    "import graphviz"
   ]
  },
  {
   "attachments": {},
   "cell_type": "markdown",
   "metadata": {},
   "source": [
    "### Tratamento dos dados"
   ]
  },
  {
   "cell_type": "code",
   "execution_count": 95,
   "metadata": {},
   "outputs": [
    {
     "name": "stderr",
     "output_type": "stream",
     "text": [
      "C:\\Users\\annal\\AppData\\Local\\Temp\\ipykernel_7640\\1571368895.py:40: DeprecationWarning: In a future version, `df.iloc[:, i] = newvals` will attempt to set the values inplace instead of always setting a new array. To retain the old behavior, use either `df[df.columns[i]] = newvals` or, if columns are non-unique, `df.isetitem(i, newvals)`\n",
      "  arquivo.loc[:, \"Sexo\"] = arquivo.loc[:, \"Sexo\"].map(rename_sexo)\n",
      "C:\\Users\\annal\\AppData\\Local\\Temp\\ipykernel_7640\\1571368895.py:41: DeprecationWarning: In a future version, `df.iloc[:, i] = newvals` will attempt to set the values inplace instead of always setting a new array. To retain the old behavior, use either `df[df.columns[i]] = newvals` or, if columns are non-unique, `df.isetitem(i, newvals)`\n",
      "  arquivo.loc[:, \"PS\"] = arquivo.loc[:, \"PS\"].map(rename_levels)\n",
      "C:\\Users\\annal\\AppData\\Local\\Temp\\ipykernel_7640\\1571368895.py:42: DeprecationWarning: In a future version, `df.iloc[:, i] = newvals` will attempt to set the values inplace instead of always setting a new array. To retain the old behavior, use either `df[df.columns[i]] = newvals` or, if columns are non-unique, `df.isetitem(i, newvals)`\n",
      "  arquivo.loc[:, \"Colesterol\"] = arquivo.loc[:, \"Colesterol\"].map(rename_levels)\n"
     ]
    },
    {
     "data": {
      "text/html": [
       "<div>\n",
       "<style scoped>\n",
       "    .dataframe tbody tr th:only-of-type {\n",
       "        vertical-align: middle;\n",
       "    }\n",
       "\n",
       "    .dataframe tbody tr th {\n",
       "        vertical-align: top;\n",
       "    }\n",
       "\n",
       "    .dataframe thead th {\n",
       "        text-align: right;\n",
       "    }\n",
       "</style>\n",
       "<table border=\"1\" class=\"dataframe\">\n",
       "  <thead>\n",
       "    <tr style=\"text-align: right;\">\n",
       "      <th></th>\n",
       "      <th>Idade</th>\n",
       "      <th>Sexo</th>\n",
       "      <th>PS</th>\n",
       "      <th>Sodio_Potassio</th>\n",
       "      <th>Colesterol</th>\n",
       "    </tr>\n",
       "  </thead>\n",
       "  <tbody>\n",
       "    <tr>\n",
       "      <th>0</th>\n",
       "      <td>23</td>\n",
       "      <td>0</td>\n",
       "      <td>3</td>\n",
       "      <td>25.355</td>\n",
       "      <td>3</td>\n",
       "    </tr>\n",
       "    <tr>\n",
       "      <th>1</th>\n",
       "      <td>47</td>\n",
       "      <td>1</td>\n",
       "      <td>1</td>\n",
       "      <td>13.093</td>\n",
       "      <td>3</td>\n",
       "    </tr>\n",
       "    <tr>\n",
       "      <th>2</th>\n",
       "      <td>47</td>\n",
       "      <td>1</td>\n",
       "      <td>1</td>\n",
       "      <td>10.114</td>\n",
       "      <td>3</td>\n",
       "    </tr>\n",
       "    <tr>\n",
       "      <th>3</th>\n",
       "      <td>28</td>\n",
       "      <td>0</td>\n",
       "      <td>2</td>\n",
       "      <td>7.798</td>\n",
       "      <td>3</td>\n",
       "    </tr>\n",
       "    <tr>\n",
       "      <th>4</th>\n",
       "      <td>61</td>\n",
       "      <td>0</td>\n",
       "      <td>1</td>\n",
       "      <td>18.043</td>\n",
       "      <td>3</td>\n",
       "    </tr>\n",
       "  </tbody>\n",
       "</table>\n",
       "</div>"
      ],
      "text/plain": [
       "   Idade  Sexo  PS  Sodio_Potassio  Colesterol\n",
       "0     23     0   3          25.355           3\n",
       "1     47     1   1          13.093           3\n",
       "2     47     1   1          10.114           3\n",
       "3     28     0   2           7.798           3\n",
       "4     61     0   1          18.043           3"
      ]
     },
     "execution_count": 95,
     "metadata": {},
     "output_type": "execute_result"
    }
   ],
   "source": [
    "# Definimos o ssed dos valores aleatórios para 25\n",
    "np.random.seed(25)\n",
    "\n",
    "# Importamos os dados do dataset\n",
    "arquivo = pd.read_csv('drug200.csv')\n",
    "\n",
    "# Mapeamos as conversões de nomes e valores do dataset\n",
    "rename_columns = {\n",
    "    \"Age\" : \"Idade\",\n",
    "    \"Sex\" : \"Sexo\",\n",
    "    \"BP\" : \"PS\",\n",
    "    \"Cholesterol\" : \"Colesterol\",\n",
    "    \"Na_to_K\" : \"Sodio_Potassio\",\n",
    "    \"Drug\" : \"Remédio\"\n",
    "}\n",
    "\n",
    "rename_classes = {\n",
    "    \"drugA\" : \"A\",\n",
    "    \"drugB\" : \"B\",\n",
    "    \"drugC\" : \"C\",\n",
    "    \"drugX\" : \"X\",\n",
    "    \"DrugY\" : \"Y\",\n",
    "}\n",
    "\n",
    "rename_sexo = {\n",
    "    \"F\" : 0,\n",
    "    \"M\" : 1\n",
    "}\n",
    "\n",
    "rename_levels = {\n",
    "    \"LOW\" : 1,\n",
    "    \"NORMAL\" : 2,\n",
    "    \"HIGH\" : 3,\n",
    "}\n",
    "\n",
    "# Renomeamos as colunas para português\n",
    "arquivo = arquivo.rename(columns=rename_columns)\n",
    "\n",
    "# Convertemos os valores textuais para numéricos\n",
    "arquivo.loc[:, \"Sexo\"] = arquivo.loc[:, \"Sexo\"].map(rename_sexo)\n",
    "arquivo.loc[:, \"PS\"] = arquivo.loc[:, \"PS\"].map(rename_levels)\n",
    "arquivo.loc[:, \"Colesterol\"] = arquivo.loc[:, \"Colesterol\"].map(rename_levels)\n",
    "arquivo.loc[:, \"Remédio\"] = arquivo.loc[:, \"Remédio\"].map(rename_classes)\n",
    "\n",
    "# Atribuímos as variáveis para X e a classe para Y\n",
    "x = arquivo[[\"Idade\", \"Sexo\", \"PS\", \"Sodio_Potassio\", \"Colesterol\"]]\n",
    "\n",
    "# Normalizamos os dados numéricos\n",
    "# scaler = MinMaxScaler()\n",
    "# colunas_numeircas = x[[\"Idade\", \"PS\", \"Sodio_Potassio\", \"Colesterol\"]].values\n",
    "# dados_normalizados = scaler.fit_transform(colunas_numeircas)\n",
    "# x[[\"Idade\", \"PS\", \"Sodio_Potassio\", \"Colesterol\"]] = dados_normalizados\n",
    "\n",
    "y = arquivo[\"Remédio\"]\n",
    "\n",
    "x.head()\n"
   ]
  },
  {
   "attachments": {},
   "cell_type": "markdown",
   "metadata": {},
   "source": [
    "### Treinamento do modelo e medida de acurácia"
   ]
  },
  {
   "cell_type": "code",
   "execution_count": null,
   "metadata": {},
   "outputs": [],
   "source": [
    "# Separamos o treino e o teste para as variáveis e para o alvo\n",
    "train_x, test_x, train_y, test_y = train_test_split(x, y, test_size=0.30, stratify=y)\n",
    "\n",
    "# Geramos a árvore de decisão utilizando gini como critério de cálculo de IG\n",
    "clf = tree.DecisionTreeClassifier(criterion=\"gini\")\n",
    "\n",
    "#Treinamos o modelo utilizando treino X e treino Y\n",
    "clf.fit(train_x, train_y)\n",
    "\n",
    "# Predizemos o conteúdo do teste X\n",
    "predict = clf.predict(test_x)\n",
    "# print(predict)\n",
    "\n",
    "# Calculamos a ácurácia comparando a predição realizada com os valores reais de teste Y\n",
    "acuracia = accuracy_score(test_y, predict)\n",
    "print(\"A acurácio foi de \" + str(acuracia * 100) + \"%\")\n",
    "\n",
    "# Salvamos o modelo treinado em um arquivo\n",
    "dump(clf, 'modelo_dd.joblib')\n",
    "\n",
    "# Carregamos o modelo\n",
    "modelo = load('modelo_dd.joblib')\n",
    "predict1 = modelo.predict([[0.7, 0.2, 0.2, 0.2, 0.6]])\n",
    "print(\"A predição para a pessoa inserida foi: \" + str(predict1[0]))\n",
    "\n",
    "# print(classification_report(test_y, predict))\n",
    "\n",
    "tree.plot_tree(clf, feature_names=x.columns, class_names=[\"A\", \"B\", \"C\", \"X\", \"Y\"], filled=True)\n",
    "# dot_data = tree.export_graphviz(clf, out_file=None, feature_names=x.columns, class_names=[\"A\", \"B\", \"C\", \"X\", \"Y\"], filled=True, rounded=True, special_characters=True)\n",
    "# graph = graphviz.Source(dot_data)\n",
    "# x.head()"
   ]
  },
  {
   "cell_type": "code",
   "execution_count": 104,
   "metadata": {},
   "outputs": [
    {
     "data": {
      "text/plain": [
       "(array([28., 53., 38., 26., 15., 11., 14.,  6.,  6.,  3.]),\n",
       " array([ 6.269 ,  9.4668, 12.6646, 15.8624, 19.0602, 22.258 , 25.4558,\n",
       "        28.6536, 31.8514, 35.0492, 38.247 ]),\n",
       " <BarContainer object of 10 artists>)"
      ]
     },
     "execution_count": 104,
     "metadata": {},
     "output_type": "execute_result"
    },
    {
     "data": {
      "image/png": "[encoded data removed]",
      "text/plain": [
       "<Figure size 640x480 with 1 Axes>"
      ]
     },
     "metadata": {},
     "output_type": "display_data"
    }
   ],
   "source": [
    "# plt.hist(x[\"Idade\"], rwidth=0.9)\n",
    "plt.hist(x[\"Sodio_Potassio\"], rwidth=0.9)"
   ]
  }
 ],
 "metadata": {
  "kernelspec": {
   "display_name": "Python 3",
   "language": "python",
   "name": "python3"
  },
  "language_info": {
   "codemirror_mode": {
    "name": "ipython",
    "version": 3
   },
   "file_extension": ".py",
   "mimetype": "text/x-python",
   "name": "python",
   "nbconvert_exporter": "python",
   "pygments_lexer": "ipython3",
   "version": "3.11.2"
  },
  "orig_nbformat": 4
 },
 "nbformat": 4,
 "nbformat_minor": 2
}
